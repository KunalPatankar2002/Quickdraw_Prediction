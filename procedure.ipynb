{
  "cells": [
    {
      "cell_type": "code",
      "execution_count": null,
      "metadata": {
        "id": "sj2sfTue82EI"
      },
      "outputs": [],
      "source": [
        "import pandas as pd\n",
        "import numpy as np\n",
        "import matplotlib.pyplot as plt\n",
        "from numpy import vectorize\n",
        "# % matplotlib inline\n",
        "import json\n",
        "import time\n",
        "np.random.seed(32113)\n",
        "\n",
        "from feature_engineering_func import feature_engineering_CNN\n",
        "from cnn_func import CNN_image_recognition\n",
        "from sklearn.model_selection import train_test_split"
      ]
    },
    {
      "cell_type": "code",
      "execution_count": null,
      "metadata": {
        "colab": {
          "base_uri": "https://localhost:8080/"
        },
        "id": "XAWWGuKt-Whz",
        "outputId": "56ba87c5-2f33-4422-ac70-70c2e0dcb86b"
      },
      "outputs": [],
      "source": [
        "# from google.colab import drive\n",
        "# drive.mount('/content/drive')\n",
        "# %cd /content/\n",
        "# from feature_engineering_func import  feature_engineering_ensemble,feature_engineering_CNN\n",
        "# # from cnn_func import CNN_country_prediction, CNN_image_recognition\n",
        "# from ensemble_method_func import data_preparer_ensemble"
      ]
    },
    {
      "cell_type": "code",
      "execution_count": null,
      "metadata": {
        "collapsed": true,
        "id": "0H5OD-bN82EL"
      },
      "outputs": [],
      "source": [
        "category = \"horse_word_ems\"\n",
        "filepath = \"/content/drive/MyDrive/data/full_raw_horse.ndjson\"\n",
        "df = pd.read_json(filepath, lines=True)\n"
      ]
    },
    {
      "cell_type": "markdown",
      "metadata": {
        "id": "dkUfB1Ph82EM"
      },
      "source": [
        "## data prep for CNN model"
      ]
    },
    {
      "cell_type": "code",
      "execution_count": null,
      "metadata": {
        "colab": {
          "base_uri": "https://localhost:8080/",
          "height": 245
        },
        "id": "sfUwYb2e82EM",
        "outputId": "7582455b-6484-47eb-9192-45d9c65b0e08"
      },
      "outputs": [],
      "source": [
        "df_final = feature_engineering_CNN(df,category,60000,'country')\n",
        "#this creates new file in data folder \"./data/{}_15.pkl\".format(category)\n"
      ]
    }
  ],
  "metadata": {
    "colab": {
      "gpuType": "T4",
      "provenance": []
    },
    "kernelspec": {
      "display_name": "Python 3",
      "name": "python3"
    },
    "language_info": {
      "codemirror_mode": {
        "name": "ipython",
        "version": 3
      },
      "file_extension": ".py",
      "mimetype": "text/x-python",
      "name": "python",
      "nbconvert_exporter": "python",
      "pygments_lexer": "ipython3",
      "version": "3.11.0"
    }
  },
  "nbformat": 4,
  "nbformat_minor": 0
}
